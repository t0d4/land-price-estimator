{
 "cells": [
  {
   "attachments": {},
   "cell_type": "markdown",
   "metadata": {},
   "source": [
    "## Generate segmentation map from satellite images"
   ]
  },
  {
   "cell_type": "markdown",
   "metadata": {},
   "source": [
    "### prepare pretrained model"
   ]
  },
  {
   "cell_type": "code",
   "execution_count": 1,
   "metadata": {},
   "outputs": [
    {
     "name": "stderr",
     "output_type": "stream",
     "text": [
      "/home/takaaki/.venv/llm/lib/python3.11/site-packages/transformers/models/segformer/feature_extraction_segformer.py:28: FutureWarning: The class SegformerFeatureExtractor is deprecated and will be removed in version 5 of Transformers. Please use SegformerImageProcessor instead.\n",
      "  warnings.warn(\n"
     ]
    }
   ],
   "source": [
    "import torch\n",
    "\n",
    "id2label = {\n",
    "    0: \"Ignore\",\n",
    "    1: \"Background\",\n",
    "    2: \"Building\",\n",
    "    3: \"Road\",\n",
    "    4: \"Water\",\n",
    "    5: \"Barren\",\n",
    "    6: \"Forest\",\n",
    "    7: \"Agricultural\"\n",
    "}\n",
    "label2id = { v: k for k, v in id2label.items() }\n",
    "device = (\n",
    "    \"cuda\"\n",
    "    if torch.cuda.is_available()\n",
    "    else \"cpu\"\n",
    ")\n",
    "\n",
    "from transformers import SegformerFeatureExtractor, SegformerForSemanticSegmentation\n",
    "feature_extractor = SegformerFeatureExtractor()\n",
    "model = SegformerForSemanticSegmentation.from_pretrained(\n",
    "    pretrained_model_name_or_path=\"wu-pr-gw/segformer-b2-finetuned-with-LoveDA\",\n",
    "    use_auth_token=True,\n",
    "    id2label=id2label,\n",
    "    label2id=label2id,\n",
    ").to(device)"
   ]
  },
  {
   "cell_type": "markdown",
   "metadata": {},
   "source": [
    "### generate segmentation maps from satellite images in batch"
   ]
  },
  {
   "cell_type": "code",
   "execution_count": 3,
   "metadata": {},
   "outputs": [],
   "source": [
    "import os\n",
    "import glob\n",
    "\n",
    "import numpy as np\n",
    "from PIL import Image\n",
    "\n",
    "INFER_BATCH_SIZE = 5\n",
    "TARGET_SIZE = 512\n",
    "\n",
    "DATASET_ROOT = \"./dataset\"\n",
    "\n",
    "image_paths = glob.glob(os.path.join(DATASET_ROOT, \"images\", \"*.png\"))\n",
    "# sort image files by their id ( e.g. satellite000003.png -> 000003 )\n",
    "image_paths.sort(key=lambda filepath: int(filepath[9:15]))\n",
    "idx = 0\n",
    "\n",
    "while idx < len(image_paths):\n",
    "    batch_images = [\n",
    "        Image.open(image_path).convert(mode=\"RGB\") for image_path in image_paths[idx:idx+INFER_BATCH_SIZE]\n",
    "    ]\n",
    "    inputs = feature_extractor(images=batch_images, return_tensors=\"pt\").to(device)\n",
    "    segmentation_maps = feature_extractor.post_process_semantic_segmentation(\n",
    "        outputs=model(**inputs),\n",
    "        target_sizes=[(TARGET_SIZE, TARGET_SIZE)]*len(batch_images)\n",
    "    )\n",
    "    for index_in_batch, segmentation_map in enumerate(segmentation_maps):\n",
    "        segmentation_map_image = Image.fromarray(\n",
    "            segmentation_map.cpu().numpy().astype(np.uint8), \"L\"\n",
    "        )  # load as grayscale\n",
    "        segmentation_map_image_name = os.path.splitext(\n",
    "            os.path.basename(image_paths[idx+index_in_batch])\n",
    "        )[0] + \"_masked.png\"\n",
    "        segmentation_map_image.save(os.path.join(DATASET_ROOT, \"masked_images\", segmentation_map_image_name))\n",
    "\n",
    "    idx += INFER_BATCH_SIZE\n",
    "    if idx % 1000 == 0:\n",
    "        print(f\"{idx} / {len(image_paths)}\")"
   ]
  }
 ],
 "metadata": {
  "kernelspec": {
   "display_name": "Python 3 (ipykernel)",
   "language": "python",
   "name": "python3"
  },
  "language_info": {
   "codemirror_mode": {
    "name": "ipython",
    "version": 3
   },
   "file_extension": ".py",
   "mimetype": "text/x-python",
   "name": "python",
   "nbconvert_exporter": "python",
   "pygments_lexer": "ipython3",
   "version": "3.8.10"
  },
  "orig_nbformat": 4
 },
 "nbformat": 4,
 "nbformat_minor": 2
}
